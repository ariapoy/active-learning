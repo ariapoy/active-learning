{
 "cells": [
  {
   "cell_type": "code",
   "execution_count": 1,
   "metadata": {},
   "outputs": [],
   "source": [
    "import numpy as np\n",
    "import pandas as pd\n",
    "import seaborn as sns"
   ]
  },
  {
   "cell_type": "code",
   "execution_count": 2,
   "metadata": {},
   "outputs": [],
   "source": [
    "from pylab import rcParams\n",
    "rcParams['figure.figsize'] = 6, 6\n",
    "# rcParams['figure.dpi'] = 200"
   ]
  },
  {
   "cell_type": "code",
   "execution_count": 3,
   "metadata": {},
   "outputs": [],
   "source": [
    "paper_results = {\n",
    "    \"appendicitis\": 0.836,\n",
    "    \"iris\": 0.835,\n",
    "}"
   ]
  },
  {
   "cell_type": "code",
   "execution_count": 4,
   "metadata": {},
   "outputs": [
    {
     "name": "stdout",
     "output_type": "stream",
     "text": [
      "<class 'pandas.core.frame.DataFrame'>\n",
      "RangeIndex: 100000 entries, 0 to 99999\n",
      "Data columns (total 1 columns):\n",
      " #   Column  Non-Null Count   Dtype  \n",
      "---  ------  --------------   -----  \n",
      " 0   AUBC    100000 non-null  float64\n",
      "dtypes: float64(1)\n",
      "memory usage: 781.4 KB\n"
     ]
    }
   ],
   "source": [
    "# AUBC_results_df = pd.read_csv(\"./Table3-AUBC-collect-Google-20211020-0.csv\")\n",
    "AUBC_results_df = pd.read_csv(\"./Table3-AUBC-collect-Google-20211020-iris.csv\")\n",
    "AUBC_results_df.info()"
   ]
  },
  {
   "cell_type": "code",
   "execution_count": 5,
   "metadata": {},
   "outputs": [],
   "source": [
    "K = 1000\n",
    "mean_AUBC_per100_list = [\n",
    "    AUBC_results_df.sample(n=100, replace=True, random_state=seed, ignore_index=True).mean()\n",
    "    for seed in range(K)\n",
    "]"
   ]
  },
  {
   "cell_type": "code",
   "execution_count": 6,
   "metadata": {},
   "outputs": [],
   "source": [
    "mean_AUBC_per100 = pd.concat(mean_AUBC_per100_list).to_frame(name=\"Mean of AUBC\").reset_index(drop=True)"
   ]
  },
  {
   "cell_type": "code",
   "execution_count": 7,
   "metadata": {},
   "outputs": [
    {
     "data": {
      "text/plain": [
       "<matplotlib.lines.Line2D at 0x7f08723f9be0>"
      ]
     },
     "execution_count": 7,
     "metadata": {},
     "output_type": "execute_result"
    },
    {
     "data": {
      "image/png": "[encoded data removed]",
      "text/plain": [
       "<Figure size 432x432 with 1 Axes>"
      ]
     },
     "metadata": {
      "needs_background": "light"
     },
     "output_type": "display_data"
    }
   ],
   "source": [
    "ax = sns.histplot(data=mean_AUBC_per100, x=\"Mean of AUBC\", kde=True)\n",
    "ax.axvline(x=paper_results[\"appendicitis\"], color=\"r\")"
   ]
  },
  {
   "cell_type": "code",
   "execution_count": 8,
   "metadata": {},
   "outputs": [],
   "source": [
    "# SEM_AUBC_per100 = mean_AUBC_per100.std() / 10"
   ]
  },
  {
   "cell_type": "code",
   "execution_count": 9,
   "metadata": {},
   "outputs": [],
   "source": [
    "# mean_mean_AUBC_per100 = mean_AUBC_per100.mean()\n",
    "# upper_2stdPlusMean = mean_mean_AUBC_per100 + 2*SEM_AUBC_per100\n",
    "# lower_2stdPlusMean = mean_mean_AUBC_per100 - 2*SEM_AUBC_per100\n",
    "# upper_2stdPlusMean = upper_2stdPlusMean.values[0]\n",
    "# lower_2stdPlusMean = lower_2stdPlusMean.values[0]\n",
    "\n",
    "# upper_2stdPlusMean > paper_results[\"appendicitis\"] > lower_2stdPlusMean"
   ]
  },
  {
   "cell_type": "code",
   "execution_count": 10,
   "metadata": {},
   "outputs": [],
   "source": [
    "# print(upper_2stdPlusMean, paper_results[\"appendicitis\"], lower_2stdPlusMean)"
   ]
  },
  {
   "cell_type": "code",
   "execution_count": null,
   "metadata": {},
   "outputs": [],
   "source": []
  }
 ],
 "metadata": {
  "kernelspec": {
   "display_name": "libact",
   "language": "python",
   "name": "libact"
  },
  "language_info": {
   "codemirror_mode": {
    "name": "ipython",
    "version": 3
   },
   "file_extension": ".py",
   "mimetype": "text/x-python",
   "name": "python",
   "nbconvert_exporter": "python",
   "pygments_lexer": "ipython3",
   "version": "3.8.11"
  }
 },
 "nbformat": 4,
 "nbformat_minor": 4
}
